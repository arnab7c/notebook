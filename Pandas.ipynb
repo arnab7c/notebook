{
 "cells": [
  {
   "cell_type": "markdown",
   "id": "1b4fcad7",
   "metadata": {},
   "source": [
    "# Python Pandas | 1 | Data Structures in Pandas"
   ]
  },
  {
   "cell_type": "markdown",
   "id": "2e1b9d49",
   "metadata": {},
   "source": [
    "Task 1\n",
    "1. Create a series name heights_A with values 176.2, 158.4, 167.6, 156.2, 161.4 (heights of 5 students in class A)\n",
    "2. Label each student as s1,s2,s3,s4,s5\n",
    "3. Determine shape of heights_A & display\n",
    "Task 2\n",
    "1. Create another serias name weights_A with values 851.,90.2,76.8, 80.4, 78.9 (weights of 5 students in class A)\n",
    "2. Label each student as s1,s2,s3,s4,s5\n",
    "3. Determine datatypes of weights_A & display\n",
    "Task 3\n",
    "1. Create a dataframe df_A which contains heights & weights of 5 students s1,s2,s3,s4,s5\n",
    "2. Label the columns as Students_height & Students_weight respectively\n",
    "3. Display the shape of df_A\n",
    "Task 4\n",
    "1. Create another series heights_B from a 1D Numpy array of 5 elements derived from the normal distribution of mean 170.0 & standard deviation 25.0. (set random seed to 100 before creating the series)\n",
    "2. Create another series weights_B from a 1D Numpy array of 5 elements derived from the normal distribution of mean 75.0 & standard deviation 12.0. (set random seed to 100 before creating the series)\n",
    "3. Label both series element s1,s2,s3,s4,s5\n",
    "4. Print the mean of series heights_B\n",
    "Task 5\n",
    "1. Create a dataframe df_B containing the heights & weights of class B student - s1,s2,s3,s4,s5\n",
    "2. Label the columns as Students_height & Students_weight respectively\n",
    "3. Display the column names of df_B"
   ]
  },
  {
   "cell_type": "code",
   "execution_count": null,
   "id": "0b608162",
   "metadata": {},
   "outputs": [],
   "source": [
    "import numpy as np\n",
    "import pandas as pd\n",
    "\n",
    "student=[\"s1\",\"s2\",\"s3\",\"s4\",\"s5\"]\n",
    "\n",
    "# Task1\n",
    "lst_heights=[176.2, 158.4, 167.6, 156.2, 161.4]\n",
    "heights_A=pd.Series(lst_heights,index=student)\n",
    "print(heights_A.shape)\n",
    "\n",
    "# Task2\n",
    "lst_weights=[85.1,90.2,76.8, 80.4, 78.9]\n",
    "weights_A=pd.Series(lst_weights,index=student)\n",
    "print(weights_A.dtype)\n",
    "\n",
    "# Task3\n",
    "data_A={\"Students_height\":heights_A,\"Students_weight\":weights_A}\n",
    "df_A=pd.DataFrame(data_A)\n",
    "print(df_A.shape)\n",
    "\n",
    "# Task4\n",
    "np.random.seed(100)\n",
    "h = np.random.normal(loc=170.0, scale=25.0, size=5)\n",
    "w = np.random.normal(loc=75.0, scale=12.0, size=5)\n",
    "heights_B=pd.Series(h,index=student)\n",
    "weights_B=pd.Series(w,index=student)\n",
    "print(heights_b.mean())\n",
    "\n",
    "# Task5\n",
    "data_B={\"Students_height\":heights_B,\"Students_weight\":weights_B}\n",
    "df_B=pd.DataFrame(data_B)\n",
    "cols=df_B.columns\n",
    "for i in range(len(cols)):\n",
    "    print(cols[i])"
   ]
  },
  {
   "cell_type": "markdown",
   "id": "e8210537",
   "metadata": {},
   "source": [
    "# Python Pandas | 3 | Working with CSV files"
   ]
  },
  {
   "cell_type": "markdown",
   "id": "71fe6d5d",
   "metadata": {},
   "source": [
    "Task 1\n",
    "1. Create a series name heights_A with values 176.2, 158.4, 167.6, 156.2, 161.4 (heights of 5 students in class A)\n",
    "2. Label each student as s1,s2,s3,s4,s5\n",
    "3. Create another serias name weights_A with values 851.,90.2,76.8, 80.4, 78.9 (weights of 5 students in class A)\n",
    "4. Label each student as s1,s2,s3,s4,s5\n",
    "5. Create a dataframe df_A which contains heights & weights of 5 students s1,s2,s3,s4,s5\n",
    "6. Label the columns as Students_height & Students_weight respectively\n",
    "7. Write the contents of df_A in csv file classA.csv (use to_csv method)\n",
    "8. Verify if the file classA.csv present in directory (ls)\n",
    "9. view the data (cat)\n",
    "Task 2\n",
    "1. Read the contents of csv file into dataframe df_A2 (use read_csv method)\n",
    "2. Display dataframe df_A2\n",
    "Task 3\n",
    "1. Read the contents of csv file into dataframe df_A3 such as 1st column of datavalue treated as index\n",
    "2. Display dataframe df_A3\n",
    "Task 4\n",
    "1. Create another series heights_B from a 1D Numpy array of 5 elements derived from the normal distribution of mean 170.0 & standard deviation 25.0. (set random seed to 100 before creating the series)\n",
    "2. Create another series weights_B from a 1D Numpy array of 5 elements derived from the normal distribution of mean 75.0 & standard deviation 12.0. (set random seed to 100 before creating the series)\n",
    "3. Label both series element s1,s2,s3,s4,s5\n",
    "4. Create a dataframe df_B containing the heights & weights of class B student - s1,s2,s3,s4,s5\n",
    "5. Label the columns as Students_height & Students_weight respectively\n",
    "6. Write the contents of df_B without index to csv file named classB.csv\n",
    "7. Verify if the file classB.csv present in directory (ls)\n",
    "8. view the data (cat)\n",
    "Task 5\n",
    "1. Read the contents of csv file into dataframe df_B2 (use read_csv method)\n",
    "2. Display dataframe df_B2\n",
    "Task 6\n",
    "1. Read the data from classB.csv to a dataframe df_B3 such as argument header of read_csv is set to None\n",
    "2. Display dataframe df_B3\n",
    "Task 7\n",
    "1. Read the data from classB.csv to a dataframe df_B4 such as argument header of read_csv is set to None and skiprows set to 2.\n",
    "2. Display dataframe df_B4"
   ]
  }
 ],
 "metadata": {
  "kernelspec": {
   "display_name": "Python 3",
   "language": "python",
   "name": "python3"
  },
  "language_info": {
   "codemirror_mode": {
    "name": "ipython",
    "version": 3
   },
   "file_extension": ".py",
   "mimetype": "text/x-python",
   "name": "python",
   "nbconvert_exporter": "python",
   "pygments_lexer": "ipython3",
   "version": "3.8.11"
  }
 },
 "nbformat": 4,
 "nbformat_minor": 5
}
